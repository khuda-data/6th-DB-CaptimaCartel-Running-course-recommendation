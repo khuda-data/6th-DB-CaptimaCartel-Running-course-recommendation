{
 "cells": [
  {
   "cell_type": "code",
   "execution_count": 2,
   "metadata": {},
   "outputs": [
    {
     "name": "stdout",
     "output_type": "stream",
     "text": [
      "도보 거리: 407.5 m\n",
      "도보 시간: 36.8 seconds\n"
     ]
    }
   ],
   "source": [
    "import requests\n",
    "\n",
    "# OSRM 서버 URL\n",
    "osrm_server = \"http://localhost:5050\"\n",
    "profile = \"foot\"\n",
    "coordinates = \"127.07145,37.24037;127.06798,37.23856\"\n",
    "\n",
    "# API 요청 URL\n",
    "url = f\"{osrm_server}/route/v1/{profile}/{coordinates}?overview=false\"\n",
    "\n",
    "# HTTP 요청\n",
    "response = requests.get(url)\n",
    "data = response.json()\n",
    "\n",
    "# 결과 출력\n",
    "if response.status_code == 200 and data.get(\"code\") == \"Ok\":\n",
    "    distance = data[\"routes\"][0][\"distance\"]  # 도보 거리 (미터)\n",
    "    duration = data[\"routes\"][0][\"duration\"]  # 도보 시간 (초)\n",
    "    print(f\"도보 거리: {distance} m\")\n",
    "    print(f\"도보 시간: {duration} seconds\")\n",
    "else:\n",
    "    print(\"요청 실패:\", data)"
   ]
  },
  {
   "cell_type": "code",
   "execution_count": 3,
   "metadata": {},
   "outputs": [
    {
     "name": "stdout",
     "output_type": "stream",
     "text": [
      "OSRM 기반 직선 거리: 0.37806 km\n"
     ]
    }
   ],
   "source": [
    "    \n",
    "import requests\n",
    "import math\n",
    "\n",
    "def get_osrm_distance(origin_lon, origin_lat, dest_lon, dest_lat):\n",
    "    \"\"\"\n",
    "    OSRM의 API를 사용하여 두 좌표 간 직선 거리 계산.\n",
    "    \"\"\"\n",
    "    loc = \"{},{};{},{}\".format(origin_lon, origin_lat, dest_lon, dest_lat)\n",
    "    url = f\"http://router.project-osrm.org/route/v1/driving/{loc}\"\n",
    "    \n",
    "    # OSRM API 요청\n",
    "    response = requests.get(url)\n",
    "    if response.status_code != 200:\n",
    "        raise Exception(f\"OSRM 요청 실패: {response.status_code}\")\n",
    "    \n",
    "    res = response.json()\n",
    "    \n",
    "    # OSRM의 waypoint 데이터를 통해 두 좌표 간 직선 거리 계산\n",
    "    start = res['waypoints'][0]['location']\n",
    "    end = res['waypoints'][1]['location']\n",
    "    \n",
    "    # 직선 거리 계산 (하버사인 공식 사용)\n",
    "    distance = haversine(start[0], start[1], end[0], end[1])\n",
    "    return distance\n",
    "\n",
    "\n",
    "def haversine(lon1, lat1, lon2, lat2):\n",
    "    \"\"\"\n",
    "    하버사인 공식으로 두 좌표 사이의 직선 거리 계산.\n",
    "    \"\"\"\n",
    "    R = 6371.0  # 지구 반지름 (킬로미터)\n",
    "    lon1, lat1, lon2, lat2 = map(math.radians, [lon1, lat1, lon2, lat2])\n",
    "    dlon = lon2 - lon1\n",
    "    dlat = lat2 - lat1\n",
    "    a = math.sin(dlat / 2)**2 + math.cos(lat1) * math.cos(lat2) * math.sin(dlon / 2)**2\n",
    "    c = 2 * math.atan2(math.sqrt(a), math.sqrt(1 - a))\n",
    "    distance = R * c\n",
    "    return distance\n",
    "\n",
    "\n",
    "# 예제 좌표 (경도, 위도)\n",
    "origin_lon, origin_lat = 127.07145, 37.24037  # 시작점\n",
    "dest_lon, dest_lat = 127.06798, 37.23856  # 도착점\n",
    "\n",
    "# 직선 거리 계산\n",
    "distance = get_osrm_distance(origin_lon, origin_lat, dest_lon, dest_lat)\n",
    "print(f\"OSRM 기반 직선 거리: {distance:.5f} km\")"
   ]
  },
  {
   "cell_type": "code",
   "execution_count": 16,
   "metadata": {},
   "outputs": [
    {
     "name": "stdout",
     "output_type": "stream",
     "text": [
      "Defaulting to user installation because normal site-packages is not writeable\n",
      "Requirement already satisfied: folium in /Users/jeong-yujin/Library/Python/3.9/lib/python/site-packages (0.18.0)\n",
      "Collecting polyline\n",
      "  Downloading polyline-2.0.2-py3-none-any.whl (6.0 kB)\n",
      "Requirement already satisfied: jinja2>=2.9 in /Users/jeong-yujin/Library/Python/3.9/lib/python/site-packages (from folium) (3.1.4)\n",
      "Requirement already satisfied: xyzservices in /Users/jeong-yujin/Library/Python/3.9/lib/python/site-packages (from folium) (2024.9.0)\n",
      "Requirement already satisfied: requests in /Users/jeong-yujin/Library/Python/3.9/lib/python/site-packages (from folium) (2.32.3)\n",
      "Requirement already satisfied: branca>=0.6.0 in /Users/jeong-yujin/Library/Python/3.9/lib/python/site-packages (from folium) (0.8.0)\n",
      "Requirement already satisfied: numpy in /Users/jeong-yujin/Library/Python/3.9/lib/python/site-packages (from folium) (2.0.2)\n",
      "Requirement already satisfied: MarkupSafe>=2.0 in /Users/jeong-yujin/Library/Python/3.9/lib/python/site-packages (from jinja2>=2.9->folium) (3.0.2)\n",
      "Requirement already satisfied: urllib3<3,>=1.21.1 in /Users/jeong-yujin/Library/Python/3.9/lib/python/site-packages (from requests->folium) (2.2.3)\n",
      "Requirement already satisfied: certifi>=2017.4.17 in /Users/jeong-yujin/Library/Python/3.9/lib/python/site-packages (from requests->folium) (2024.8.30)\n",
      "Requirement already satisfied: idna<4,>=2.5 in /Users/jeong-yujin/Library/Python/3.9/lib/python/site-packages (from requests->folium) (3.10)\n",
      "Requirement already satisfied: charset-normalizer<4,>=2 in /Users/jeong-yujin/Library/Python/3.9/lib/python/site-packages (from requests->folium) (3.4.0)\n",
      "Installing collected packages: polyline\n",
      "Successfully installed polyline-2.0.2\n",
      "\u001b[33mWARNING: You are using pip version 21.2.4; however, version 24.3.1 is available.\n",
      "You should consider upgrading via the '/Library/Developer/CommandLineTools/usr/bin/python3 -m pip install --upgrade pip' command.\u001b[0m\n"
     ]
    }
   ],
   "source": [
    "!pip3 install folium polyline"
   ]
  },
  {
   "cell_type": "code",
   "execution_count": 18,
   "metadata": {},
   "outputs": [],
   "source": [
    "import folium\n",
    "import requests\n",
    "import polyline"
   ]
  },
  {
   "cell_type": "markdown",
   "metadata": {},
   "source": []
  },
  {
   "cell_type": "code",
   "execution_count": 19,
   "metadata": {},
   "outputs": [
    {
     "name": "stdout",
     "output_type": "stream",
     "text": [
      "지도가 생성되었습니다: fixed_osrm_route.html\n",
      "{'code': 'Ok', 'routes': [{'geometry': '{xzcF{aifW??CMc@sBGYQw@i@kCq@eDe@aCIa@Mm@i@kCs@eDRGxAo@|@[', 'legs': [{'steps': [], 'distance': 590.6, 'duration': 43.9, 'summary': '', 'weight': 43.9}], 'distance': 590.6, 'duration': 43.9, 'weight_name': 'routability', 'weight': 43.9}], 'waypoints': [{'hint': 'CAsigP___38BAAAAAgAAAAUAAAADAAAACv5UQHNkKD-A5AZBf0zJQAEAAAACAAAABQAAAAMAAACmBAAAyEmSBy4sPAK0SZIHViw8AgEATwRjvHkX', 'distance': 4.778892, 'name': '서초대로', 'location': [127.027656, 37.497902]}, {'hint': 'd84FgDapCIB6AAAANgAAAAAAAAAAAAAAXZOqQohpE0IAAAAAAAAAAHoAAAA2AAAAAAAAAAAAAACmBAAApF-SB_IuPAIoX5IHzS48AgAAPxVjvHkX', 'distance': 11.712154, 'name': '테헤란로14길', 'location': [127.033252, 37.49861]}]}\n"
     ]
    }
   ],
   "source": [
    "# OSRM 서버 설정\n",
    "osrm_server = \"http://localhost:5050\"  # 포트 번호를 5050으로 변경\n",
    "profile = \"foot\"  # 도보 프로필\n",
    "\n",
    "# 고정된 두 좌표 (경도, 위도 형식)\n",
    "start = \"127.027636,37.497942\"  # 시작점\n",
    "end = \"127.033128,37.498573\"  # 끝점\n",
    "url = f\"{osrm_server}/route/v1/{profile}/{start};{end}?overview=full\"\n",
    "\n",
    "# OSRM 서버로 경로 요청\n",
    "response = requests.get(url)\n",
    "data = response.json()\n",
    "\n",
    "# 지도 중심 설정 (시작점 기준)\n",
    "map_center = [37.497942, 127.027636]\n",
    "m = folium.Map(location=map_center, zoom_start=15)\n",
    "\n",
    "if response.status_code == 200 and data.get(\"code\") == \"Ok\":\n",
    "    # OSRM에서 받은 경로(geometry)를 디코딩\n",
    "    route_geometry = data[\"routes\"][0][\"geometry\"]\n",
    "    route_coords = polyline.decode(route_geometry)  # 디코딩된 경로 좌표\n",
    "\n",
    "    # 디코딩된 좌표 변환: folium에서 (위도, 경도) 순서 사용\n",
    "    route_coords_latlon = [(lat, lon) for lon, lat in route_coords]\n",
    "\n",
    "    # 지도에 경로 추가\n",
    "    folium.PolyLine(\n",
    "        locations=route_coords_latlon,\n",
    "        color=\"blue\",\n",
    "        weight=5,\n",
    "        opacity=0.8\n",
    "    ).add_to(m)\n",
    "else:\n",
    "    print(\"OSRM 요청 실패:\", data)\n",
    "\n",
    "# 시작점과 끝점을 지도에 표시\n",
    "folium.Marker([37.497942, 127.027636], popup=\"Start\", icon=folium.Icon(color=\"green\")).add_to(m)\n",
    "folium.Marker([37.498573, 127.033128], popup=\"End\", icon=folium.Icon(color=\"red\")).add_to(m)\n",
    "\n",
    "# 지도 출력\n",
    "m.save(\"fixed_osrm_route.html\")\n",
    "print(\"지도가 생성되었습니다: fixed_osrm_route.html\")\n",
    "\n",
    "# OSRM 서버 응답 데이터 출력\n",
    "print(data)\n"
   ]
  },
  {
   "cell_type": "code",
   "execution_count": 20,
   "metadata": {},
   "outputs": [],
   "source": [
    "import pandas as pd"
   ]
  },
  {
   "cell_type": "code",
   "execution_count": 29,
   "metadata": {},
   "outputs": [],
   "source": [
    "# CSV 파일 읽기 및 ID 추가\n",
    "data = pd.read_csv('final_corner.csv')\n",
    "data['id'] = data.index + 1  # ID 추가\n"
   ]
  },
  {
   "cell_type": "code",
   "execution_count": 32,
   "metadata": {},
   "outputs": [],
   "source": [
    "data.to_csv('marker_id.csv')"
   ]
  },
  {
   "cell_type": "code",
   "execution_count": 25,
   "metadata": {},
   "outputs": [
    {
     "name": "stdout",
     "output_type": "stream",
     "text": [
      "도보 거리 계산 완료, 결과 저장: dobo_dist.csv\n"
     ]
    }
   ],
   "source": [
    "import pandas as pd\n",
    "import itertools\n",
    "import requests\n",
    "\n",
    "\n",
    "# 좌표와 ID 준비\n",
    "locations = list(zip(data['id'], data['경도'], data['위도']))\n",
    "\n",
    "# OSRM 서버 설정\n",
    "osrm_server = \"http://localhost:5050\"\n",
    "profile = \"foot\"  # 도보 프로필\n",
    "\n",
    "# 결과 저장을 위한 리스트\n",
    "distances = []\n",
    "\n",
    "# 모든 (시작, 끝) 조합 생성\n",
    "combinations = itertools.combinations(locations, 2)  # 2개씩 조합\n",
    "\n",
    "for (id_start, lon_start, lat_start), (id_end, lon_end, lat_end) in combinations:\n",
    "    # 좌표를 문자열로 변환\n",
    "    start = f\"{lon_start},{lat_start}\"\n",
    "    end = f\"{lon_end},{lat_end}\"\n",
    "    url = f\"{osrm_server}/route/v1/{profile}/{start};{end}?overview=false\"\n",
    "\n",
    "    # OSRM 요청 및 응답 처리\n",
    "    response = requests.get(url)\n",
    "    if response.status_code == 200:\n",
    "        data = response.json()\n",
    "        if data.get(\"code\") == \"Ok\":\n",
    "            # 거리 추출\n",
    "            distance = data[\"routes\"][0][\"distance\"]\n",
    "            distances.append({\n",
    "                \"id_start\": id_start,\n",
    "                \"id_end\": id_end,\n",
    "                \"distance\": distance\n",
    "            })\n",
    "    else:\n",
    "        print(f\"OSRM 요청 실패: {id_start} -> {id_end}\")\n",
    "\n",
    "# DataFrame 생성\n",
    "dobo_dist = pd.DataFrame(distances)\n",
    "\n",
    "# 저장 및 확인\n",
    "dobo_dist.to_csv(\"dobo_dist.csv\", index=False)\n",
    "print(\"도보 거리 계산 완료, 결과 저장: dobo_dist.csv\")\n"
   ]
  }
 ],
 "metadata": {
  "kernelspec": {
   "display_name": "Python 3",
   "language": "python",
   "name": "python3"
  },
  "language_info": {
   "codemirror_mode": {
    "name": "ipython",
    "version": 3
   },
   "file_extension": ".py",
   "mimetype": "text/x-python",
   "name": "python",
   "nbconvert_exporter": "python",
   "pygments_lexer": "ipython3",
   "version": "3.9.6"
  }
 },
 "nbformat": 4,
 "nbformat_minor": 2
}
